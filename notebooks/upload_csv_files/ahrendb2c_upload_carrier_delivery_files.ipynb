{
  "nbformat": 4,
  "nbformat_minor": 0,
  "metadata": {
    "colab": {
      "name": "notebook_to_mongoddb_ahrend.ipynb",
      "provenance": []
    },
    "kernelspec": {
      "display_name": "Python 3",
      "language": "python",
      "name": "python3"
    },
    "language_info": {
      "codemirror_mode": {
        "name": "ipython",
        "version": 3
      },
      "file_extension": ".py",
      "mimetype": "text/x-python",
      "name": "python",
      "nbconvert_exporter": "python",
      "pygments_lexer": "ipython3",
      "version": "3.8.5"
    }
  },
  "cells": [
    {
      "cell_type": "code",
      "metadata": {
        "id": "lqESZuNdObup"
      },
      "source": [
        "import pandas as pd\n",
        "from pymongo import MongoClient"
      ],
      "execution_count": 2,
      "outputs": []
    },
    {
      "cell_type": "code",
      "metadata": {
        "id": "wAezDz9yIfJE"
      },
      "source": [
        "import sys\n",
        "IN_COLAB = 'google.colab' in sys.modules"
      ],
      "execution_count": 3,
      "outputs": []
    },
    {
      "cell_type": "code",
      "metadata": {
        "colab": {
          "base_uri": "https://localhost:8080/"
        },
        "id": "8CPK6A21d6BP",
        "outputId": "f54f2db6-9771-4025-fb3b-12d1590c5ea4"
      },
      "source": [
        "if IN_COLAB:\n",
        "    ! python -m pip install \"pymongo[srv]\""
      ],
      "execution_count": 4,
      "outputs": [
        {
          "output_type": "stream",
          "name": "stdout",
          "text": [
            "Requirement already satisfied: pymongo[srv] in /usr/local/lib/python3.7/dist-packages (3.12.1)\n",
            "Requirement already satisfied: dnspython<3.0.0,>=1.16.0 in /usr/local/lib/python3.7/dist-packages (from pymongo[srv]) (2.1.0)\n"
          ]
        }
      ]
    },
    {
      "cell_type": "code",
      "metadata": {
        "id": "3thyGxzKIfJF"
      },
      "source": [
        "GUI_OPLOAD = False"
      ],
      "execution_count": 5,
      "outputs": []
    },
    {
      "cell_type": "code",
      "metadata": {
        "id": "P6lFTW6GQu4x"
      },
      "source": [
        "if IN_COLAB:\n",
        "    from google.colab import files\n",
        "    GUI_OPLOAD = True"
      ],
      "execution_count": 6,
      "outputs": []
    },
    {
      "cell_type": "code",
      "metadata": {
        "id": "_TUvFcvpIfJF"
      },
      "source": [
        "GUI_OPLOAD = True"
      ],
      "execution_count": 7,
      "outputs": []
    },
    {
      "cell_type": "code",
      "metadata": {
        "id": "uGJH1Ry4Obus"
      },
      "source": [
        "import os, io"
      ],
      "execution_count": 8,
      "outputs": []
    },
    {
      "cell_type": "code",
      "metadata": {
        "id": "VKMacf4ccg3l"
      },
      "source": [
        "import yaml"
      ],
      "execution_count": 9,
      "outputs": []
    },
    {
      "cell_type": "code",
      "metadata": {
        "id": "wFDBazbPb9Rz"
      },
      "source": [
        "from types import SimpleNamespace"
      ],
      "execution_count": 10,
      "outputs": []
    },
    {
      "cell_type": "code",
      "metadata": {
        "id": "Glzo6-peZUUN"
      },
      "source": [
        "# user-defined exceptions\n",
        "class FileNameNotCSV(Exception):\n",
        "    \"\"\"File Name does not end with .csv\"\"\"\n",
        "    pass"
      ],
      "execution_count": 11,
      "outputs": []
    },
    {
      "cell_type": "markdown",
      "metadata": {
        "id": "NXFzWsJ8QeA5"
      },
      "source": [
        "# Upload The YAML configuration file"
      ]
    },
    {
      "cell_type": "code",
      "metadata": {
        "colab": {
          "resources": {
            "http://localhost:8080/nbextensions/google.colab/files.js": {
              "data": "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",
              "ok": true,
              "headers": [
                [
                  "content-type",
                  "application/javascript"
                ]
              ],
              "status": 200,
              "status_text": ""
            }
          },
          "base_uri": "https://localhost:8080/",
          "height": 72
        },
        "id": "lk19ba1kIfJJ",
        "outputId": "fea0533a-9fc6-4585-b2a2-11ef391a5289"
      },
      "source": [
        "if IN_COLAB:\n",
        "    uploaded = files.upload()\n",
        "else:\n",
        "    with open('./../ahrendb2c_track_delivery_config_nanne.yaml') as yaml_file:\n",
        "        yaml_config = yaml.load(yaml_file, Loader=yaml.FullLoader)"
      ],
      "execution_count": 12,
      "outputs": [
        {
          "output_type": "display_data",
          "data": {
            "text/html": [
              "\n",
              "     <input type=\"file\" id=\"files-4886d81c-eef9-4224-8eb9-a51372ab44a7\" name=\"files[]\" multiple disabled\n",
              "        style=\"border:none\" />\n",
              "     <output id=\"result-4886d81c-eef9-4224-8eb9-a51372ab44a7\">\n",
              "      Upload widget is only available when the cell has been executed in the\n",
              "      current browser session. Please rerun this cell to enable.\n",
              "      </output>\n",
              "      <script src=\"/nbextensions/google.colab/files.js\"></script> "
            ],
            "text/plain": [
              "<IPython.core.display.HTML object>"
            ]
          },
          "metadata": {}
        },
        {
          "output_type": "stream",
          "name": "stdout",
          "text": [
            "Saving ahrendb2c_track_delivery_config_nanne.yaml to ahrendb2c_track_delivery_config_nanne (4).yaml\n"
          ]
        }
      ]
    },
    {
      "cell_type": "code",
      "metadata": {
        "id": "MNrz9ZWLIfJK"
      },
      "source": [
        "if not IN_COLAB:\n",
        "  yaml_config"
      ],
      "execution_count": 13,
      "outputs": []
    },
    {
      "cell_type": "code",
      "metadata": {
        "id": "YdOoNwDnbyL4"
      },
      "source": [
        "if IN_COLAB:\n",
        "    file_name = next(iter(uploaded))\n",
        "    yaml_config = yaml.load(uploaded[file_name])"
      ],
      "execution_count": 14,
      "outputs": []
    },
    {
      "cell_type": "code",
      "metadata": {
        "id": "xgFN3ZVWbQiZ"
      },
      "source": [
        "config = SimpleNamespace(**yaml_config['env'])"
      ],
      "execution_count": 15,
      "outputs": []
    },
    {
      "cell_type": "code",
      "metadata": {
        "id": "E96ICMUEIfJL"
      },
      "source": [
        "upload_dir = config.upload_dir"
      ],
      "execution_count": 16,
      "outputs": []
    },
    {
      "cell_type": "markdown",
      "metadata": {
        "id": "GGLjLF6dZUUM"
      },
      "source": [
        "# Upload the CSV data files"
      ]
    },
    {
      "cell_type": "code",
      "metadata": {
        "colab": {
          "resources": {
            "http://localhost:8080/nbextensions/google.colab/files.js": {
              "data": "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",
              "ok": true,
              "headers": [
                [
                  "content-type",
                  "application/javascript"
                ]
              ],
              "status": 200,
              "status_text": ""
            }
          },
          "base_uri": "https://localhost:8080/",
          "height": 140
        },
        "id": "EK56SiH0IfJM",
        "outputId": "74a6d9f1-1ca6-45b7-9065-0dedc19fe813"
      },
      "source": [
        "if IN_COLAB:\n",
        "    uploaded = files.upload()\n",
        "else:\n",
        "    if GUI_OPLOAD:\n",
        "        from ipywidgets import FileUpload\n",
        "        from IPython.display import display\n",
        "        upload = FileUpload(accept='.csv', multiple=True)\n",
        "        display(upload)\n",
        "    else:\n",
        "        file_list = os.listdir(upload_dir)\n",
        "        csv_file_list = []\n",
        "        for file in file_list:\n",
        "            if file[-3:] == 'csv': # and \"Dussel\" in file: #and file != 'Alvero Export Ahrend 041120211700 - Status Afgeleverd.csv':\n",
        "                csv_file_list.append(file)\n",
        "        print(csv_file_list)"
      ],
      "execution_count": 17,
      "outputs": [
        {
          "output_type": "display_data",
          "data": {
            "text/html": [
              "\n",
              "     <input type=\"file\" id=\"files-3ae12251-68b7-4076-916d-af9977f72ad2\" name=\"files[]\" multiple disabled\n",
              "        style=\"border:none\" />\n",
              "     <output id=\"result-3ae12251-68b7-4076-916d-af9977f72ad2\">\n",
              "      Upload widget is only available when the cell has been executed in the\n",
              "      current browser session. Please rerun this cell to enable.\n",
              "      </output>\n",
              "      <script src=\"/nbextensions/google.colab/files.js\"></script> "
            ],
            "text/plain": [
              "<IPython.core.display.HTML object>"
            ]
          },
          "metadata": {}
        },
        {
          "output_type": "stream",
          "name": "stdout",
          "text": [
            "Saving Alvero Export Ahrend 041120211700 status delivered.csv to Alvero Export Ahrend 041120211700 status delivered (2).csv\n",
            "Saving Alvero Export Ahrend 041120211700 status open.csv to Alvero Export Ahrend 041120211700 status open (2).csv\n",
            "Saving Dusseldorp databestand_MongoDb_demo.csv to Dusseldorp databestand_MongoDb_demo (2).csv\n"
          ]
        }
      ]
    },
    {
      "cell_type": "code",
      "metadata": {
        "id": "VqjvxV5oIfJM"
      },
      "source": [
        "if GUI_OPLOAD:\n",
        "    csv_file_list = []\n",
        "    uploaded_files = []\n",
        "    if IN_COLAB:\n",
        "        for file_name in uploaded:\n",
        "            uploaded_file = {}\n",
        "            uploaded_file['name'] = file_name\n",
        "            uploaded_file['content'] = io.BytesIO(uploaded[file_name])\n",
        "            csv_file_list.append(uploaded_file['name'])\n",
        "            uploaded_files.append(uploaded_file)\n",
        "    else:\n",
        "        for upload_data in upload.value.values():\n",
        "            uploaded_file = {}\n",
        "            uploaded_file['name'] = upload_data['metadata']['name']\n",
        "            uploaded_file['content'] = io.BytesIO(upload_data['content'])\n",
        "            csv_file_list.append(uploaded_file['name'])\n",
        "            uploaded_files.append(uploaded_file)"
      ],
      "execution_count": 18,
      "outputs": []
    },
    {
      "cell_type": "code",
      "metadata": {
        "id": "HsPnQUhCIfJN"
      },
      "source": [
        "mongo_db_url = f\"mongodb+srv://{config.mongo_username}:{config.mongo_password}@{config.mongo_url}?retryWrites=true&w=majority\""
      ],
      "execution_count": 19,
      "outputs": []
    },
    {
      "cell_type": "code",
      "metadata": {
        "id": "Zbsz2GdvIfJO"
      },
      "source": [
        "#mongo_db_url"
      ],
      "execution_count": 20,
      "outputs": []
    },
    {
      "cell_type": "markdown",
      "metadata": {
        "id": "ttgQa5WuiHPy"
      },
      "source": [
        "The critical step, try to read the csv file into a dataframe"
      ]
    },
    {
      "cell_type": "code",
      "metadata": {
        "colab": {
          "base_uri": "https://localhost:8080/"
        },
        "id": "S-FgGpenIfJO",
        "outputId": "6e9fa64c-1ccd-4e54-bdb8-eedbba3dde78"
      },
      "source": [
        "uploaded_carriers = []\n",
        "for file_name in csv_file_list:\n",
        "    uploaded_carrier = {}\n",
        "    collection_name = \\\n",
        "        file_name.strip().lower().replace(\" \",\"_\").replace(\"-\",\"_\")[:-4]\n",
        "    print(collection_name)\n",
        "    # works only for non gui\n",
        "    uploaded_carrier['file_name'] = file_name\n",
        "    uploaded_carrier['collection_name'] = collection_name\n",
        "    if GUI_OPLOAD:\n",
        "        for f in uploaded_files:\n",
        "            if f['name'] == file_name:\n",
        "                uploaded_carrier['df'] = \\\n",
        "                    pd.read_csv(f['content'], sep=';')\n",
        "    else:\n",
        "        uploaded_carrier['df'] = \\\n",
        "            pd.read_csv(upload_dir + file_name, sep=';')\n",
        "    print(\" rownumbers :\",len(uploaded_carrier['df']))\n",
        "    uploaded_carrier['df'].fillna('', inplace=True)\n",
        "    uploaded_carriers.append(uploaded_carrier)"
      ],
      "execution_count": 21,
      "outputs": [
        {
          "output_type": "stream",
          "name": "stdout",
          "text": [
            "alvero_export_ahrend_041120211700_status_delivered\n",
            " rownumbers : 15511\n",
            "alvero_export_ahrend_041120211700_status_open\n",
            " rownumbers : 115\n",
            "dusseldorp_databestand_mongodb_demo\n",
            " rownumbers : 19979\n"
          ]
        }
      ]
    },
    {
      "cell_type": "code",
      "metadata": {
        "colab": {
          "base_uri": "https://localhost:8080/",
          "height": 824
        },
        "id": "C8i0A1C-IfJP",
        "outputId": "577d3f45-1de9-4795-a1da-edbbdb9f996f"
      },
      "source": [
        "uploaded_carriers[2]['df'].head(3).transpose()"
      ],
      "execution_count": 22,
      "outputs": [
        {
          "output_type": "execute_result",
          "data": {
            "text/html": [
              "<div>\n",
              "<style scoped>\n",
              "    .dataframe tbody tr th:only-of-type {\n",
              "        vertical-align: middle;\n",
              "    }\n",
              "\n",
              "    .dataframe tbody tr th {\n",
              "        vertical-align: top;\n",
              "    }\n",
              "\n",
              "    .dataframe thead th {\n",
              "        text-align: right;\n",
              "    }\n",
              "</style>\n",
              "<table border=\"1\" class=\"dataframe\">\n",
              "  <thead>\n",
              "    <tr style=\"text-align: right;\">\n",
              "      <th></th>\n",
              "      <th>0</th>\n",
              "      <th>1</th>\n",
              "      <th>2</th>\n",
              "    </tr>\n",
              "  </thead>\n",
              "  <tbody>\n",
              "    <tr>\n",
              "      <th>Gewijzigd op</th>\n",
              "      <td>07.09.2021 02:11:47</td>\n",
              "      <td>07.09.2021 02:11:47</td>\n",
              "      <td>07.09.2021 02:11:47</td>\n",
              "    </tr>\n",
              "    <tr>\n",
              "      <th>OpdrType</th>\n",
              "      <td>normal</td>\n",
              "      <td>normal</td>\n",
              "      <td>normal</td>\n",
              "    </tr>\n",
              "    <tr>\n",
              "      <th>Positienummer</th>\n",
              "      <td>1</td>\n",
              "      <td>2</td>\n",
              "      <td>3</td>\n",
              "    </tr>\n",
              "    <tr>\n",
              "      <th>Aangemaakt op</th>\n",
              "      <td>29.05.2021 10:33:35</td>\n",
              "      <td>29.05.2021 10:33:35</td>\n",
              "      <td>29.05.2021 10:33:35</td>\n",
              "    </tr>\n",
              "    <tr>\n",
              "      <th>Opdracht</th>\n",
              "      <td>1.00019e+07</td>\n",
              "      <td>1.00019e+07</td>\n",
              "      <td>1.00019e+07</td>\n",
              "    </tr>\n",
              "    <tr>\n",
              "      <th>Laad-referentie</th>\n",
              "      <td></td>\n",
              "      <td></td>\n",
              "      <td></td>\n",
              "    </tr>\n",
              "    <tr>\n",
              "      <th>Los-referentie</th>\n",
              "      <td>PO9819178443</td>\n",
              "      <td>PO9819178443</td>\n",
              "      <td>PO9819178443</td>\n",
              "    </tr>\n",
              "    <tr>\n",
              "      <th>Afspraken Module</th>\n",
              "      <td>Order afgeleverd</td>\n",
              "      <td>Order afgeleverd</td>\n",
              "      <td>Order afgeleverd</td>\n",
              "    </tr>\n",
              "    <tr>\n",
              "      <th>LosTotDat</th>\n",
              "      <td>03.06.2021</td>\n",
              "      <td>03.06.2021</td>\n",
              "      <td>03.06.2021</td>\n",
              "    </tr>\n",
              "    <tr>\n",
              "      <th>Ritdatum</th>\n",
              "      <td>03.06.2021</td>\n",
              "      <td>03.06.2021</td>\n",
              "      <td>03.06.2021</td>\n",
              "    </tr>\n",
              "    <tr>\n",
              "      <th>Ritnummer</th>\n",
              "      <td>1.50003e+07</td>\n",
              "      <td>1.50003e+07</td>\n",
              "      <td>1.50003e+07</td>\n",
              "    </tr>\n",
              "    <tr>\n",
              "      <th>OrderType</th>\n",
              "      <td>B2C</td>\n",
              "      <td>B2C</td>\n",
              "      <td>B2C</td>\n",
              "    </tr>\n",
              "    <tr>\n",
              "      <th>Omruilorder</th>\n",
              "      <td></td>\n",
              "      <td></td>\n",
              "      <td></td>\n",
              "    </tr>\n",
              "    <tr>\n",
              "      <th>Debiteur naam</th>\n",
              "      <td>Jacco</td>\n",
              "      <td>Jacco</td>\n",
              "      <td>Jacco</td>\n",
              "    </tr>\n",
              "    <tr>\n",
              "      <th>LaadPlaats</th>\n",
              "      <td>Lichtenvoorde</td>\n",
              "      <td>Lichtenvoorde</td>\n",
              "      <td>Lichtenvoorde</td>\n",
              "    </tr>\n",
              "    <tr>\n",
              "      <th>DZ-LosVanDat</th>\n",
              "      <td></td>\n",
              "      <td></td>\n",
              "      <td></td>\n",
              "    </tr>\n",
              "    <tr>\n",
              "      <th>DZ-LosVanDat.1</th>\n",
              "      <td></td>\n",
              "      <td></td>\n",
              "      <td></td>\n",
              "    </tr>\n",
              "    <tr>\n",
              "      <th>DZ-LosVanTijd</th>\n",
              "      <td></td>\n",
              "      <td></td>\n",
              "      <td></td>\n",
              "    </tr>\n",
              "    <tr>\n",
              "      <th>DZ-LosTotTijd</th>\n",
              "      <td></td>\n",
              "      <td></td>\n",
              "      <td></td>\n",
              "    </tr>\n",
              "    <tr>\n",
              "      <th>Pos. #VPE</th>\n",
              "      <td>1</td>\n",
              "      <td>1</td>\n",
              "      <td>1</td>\n",
              "    </tr>\n",
              "    <tr>\n",
              "      <th>Pos. Inhoud2</th>\n",
              "      <td>Beeldscherm 24 INCH P2419H</td>\n",
              "      <td>Toetsenbord   Muis</td>\n",
              "      <td>Zinn Smart NPR</td>\n",
              "    </tr>\n",
              "    <tr>\n",
              "      <th>Pos. Teken</th>\n",
              "      <td></td>\n",
              "      <td></td>\n",
              "      <td></td>\n",
              "    </tr>\n",
              "    <tr>\n",
              "      <th>Pos. Inhoud</th>\n",
              "      <td>Beeldscherm 24 INCH P2419H</td>\n",
              "      <td>Toetsenbord + Muis</td>\n",
              "      <td>Zinn Smart NPR</td>\n",
              "    </tr>\n",
              "    <tr>\n",
              "      <th>Pos. VPE</th>\n",
              "      <td>COL</td>\n",
              "      <td>COL</td>\n",
              "      <td>COL</td>\n",
              "    </tr>\n",
              "    <tr>\n",
              "      <th>Pos. WerkGew</th>\n",
              "      <td></td>\n",
              "      <td></td>\n",
              "      <td>15</td>\n",
              "    </tr>\n",
              "  </tbody>\n",
              "</table>\n",
              "</div>"
            ],
            "text/plain": [
              "                                           0  ...                    2\n",
              "Gewijzigd op             07.09.2021 02:11:47  ...  07.09.2021 02:11:47\n",
              "OpdrType                              normal  ...               normal\n",
              "Positienummer                              1  ...                    3\n",
              "Aangemaakt op            29.05.2021 10:33:35  ...  29.05.2021 10:33:35\n",
              "Opdracht                         1.00019e+07  ...          1.00019e+07\n",
              "Laad-referentie                               ...                     \n",
              "Los-referentie                  PO9819178443  ...         PO9819178443\n",
              "Afspraken Module            Order afgeleverd  ...     Order afgeleverd\n",
              "LosTotDat                         03.06.2021  ...           03.06.2021\n",
              "Ritdatum                          03.06.2021  ...           03.06.2021\n",
              "Ritnummer                        1.50003e+07  ...          1.50003e+07\n",
              "OrderType                                B2C  ...                  B2C\n",
              "Omruilorder                                   ...                     \n",
              "Debiteur naam                          Jacco  ...                Jacco\n",
              "LaadPlaats                     Lichtenvoorde  ...        Lichtenvoorde\n",
              "DZ-LosVanDat                                  ...                     \n",
              "DZ-LosVanDat.1                                ...                     \n",
              "DZ-LosVanTijd                                 ...                     \n",
              "DZ-LosTotTijd                                 ...                     \n",
              "Pos. #VPE                                  1  ...                    1\n",
              "Pos. Inhoud2      Beeldscherm 24 INCH P2419H  ...       Zinn Smart NPR\n",
              "Pos. Teken                                    ...                     \n",
              "Pos. Inhoud       Beeldscherm 24 INCH P2419H  ...       Zinn Smart NPR\n",
              "Pos. VPE                                 COL  ...                  COL\n",
              "Pos. WerkGew                                  ...                   15\n",
              "\n",
              "[25 rows x 3 columns]"
            ]
          },
          "metadata": {},
          "execution_count": 22
        }
      ]
    },
    {
      "cell_type": "code",
      "metadata": {
        "id": "c2ERyl2OIfJP"
      },
      "source": [
        "for uploaded_carrier in uploaded_carriers:\n",
        "    uploaded_carrier['df']['origin_file'] = uploaded_carrier['file_name']\n",
        "    if \"dussel\" in uploaded_carrier['collection_name']:\n",
        "        uploaded_carrier['df'].insert(  loc=0\n",
        "                                      , column='reference'\n",
        "                                      , value=uploaded_carrier['df']['Los-referentie'])\n",
        "        uploaded_carrier['df'].insert(  loc=1\n",
        "                                      , column='product_code'\n",
        "                                      , value=uploaded_carrier['df']['Pos. Inhoud2'])\n",
        "        uploaded_carrier['df'].insert(  loc=2\n",
        "                                      , column='carrier_name'\n",
        "                                      , value=\"Dusseldorp\")\n",
        "        uploaded_carrier['mongodb_delete_many'] = {\"carrier_name\":\"Dusseldorp\"}\n",
        "        uploaded_carrier['data_dict'] = uploaded_carrier['df'].to_dict(\"records\")\n",
        "    elif \"alvero\" in uploaded_carrier['collection_name']:\n",
        "        uploaded_carrier['df'].insert(  loc=0\n",
        "                                      , column='reference'\n",
        "                                      , value=uploaded_carrier['df']['Referentie'])\n",
        "        uploaded_carrier['df'].insert(  loc=1\n",
        "                                      , column='product_code'\n",
        "                                      , value=\"\")\n",
        "        uploaded_carrier['df'].insert(  loc=2\n",
        "                                      , column='carrier_name'\n",
        "                                      , value=\"Alvero\")\n",
        "        if \"delivered\" in uploaded_carrier['collection_name']:\n",
        "            uploaded_carrier['df'].insert(  loc=3\n",
        "                                          , column='carrier_status'\n",
        "                                          , value=\"delivered\")\n",
        "            uploaded_carrier['mongodb_delete_many'] = {\"carrier_name\":\"Alvero\",\"carrier_status\":\"delivered\"}\n",
        "        elif \"open\" in uploaded_carrier['collection_name']:\n",
        "            uploaded_carrier['df'].insert(  loc=3\n",
        "                                          , column='carrier_status'\n",
        "                                          , value=\"open\")\n",
        "            uploaded_carrier['mongodb_delete_many'] = {\"carrier_name\":\"Alvero\",\"carrier_status\":\"open\"}\n",
        "        uploaded_carrier['data_dict'] = uploaded_carrier['df'].to_dict(\"records\")\n",
        "        for rec in uploaded_carrier['data_dict']:\n",
        "            rec['product_code'] = []\n",
        "            for i in range(1,11):\n",
        "                product_column_name = \"Artikelnummer_artikel_\" + str(i)\n",
        "                if rec[product_column_name] != \"\":\n",
        "                    rec['product_code'].append(rec[product_column_name])\n",
        "            if len(rec['product_code']) == 1:\n",
        "                rec['product_code'] = rec['product_code'][0]"
      ],
      "execution_count": 23,
      "outputs": []
    },
    {
      "cell_type": "code",
      "metadata": {
        "scrolled": true,
        "colab": {
          "base_uri": "https://localhost:8080/",
          "height": 1000
        },
        "id": "Fx53MRwSIfJP",
        "outputId": "18640392-8314-4c73-975d-fbe4f54d149e"
      },
      "source": [
        "uploaded_carriers[0]['df'].head(3).transpose()"
      ],
      "execution_count": 24,
      "outputs": [
        {
          "output_type": "execute_result",
          "data": {
            "text/html": [
              "<div>\n",
              "<style scoped>\n",
              "    .dataframe tbody tr th:only-of-type {\n",
              "        vertical-align: middle;\n",
              "    }\n",
              "\n",
              "    .dataframe tbody tr th {\n",
              "        vertical-align: top;\n",
              "    }\n",
              "\n",
              "    .dataframe thead th {\n",
              "        text-align: right;\n",
              "    }\n",
              "</style>\n",
              "<table border=\"1\" class=\"dataframe\">\n",
              "  <thead>\n",
              "    <tr style=\"text-align: right;\">\n",
              "      <th></th>\n",
              "      <th>0</th>\n",
              "      <th>1</th>\n",
              "      <th>2</th>\n",
              "    </tr>\n",
              "  </thead>\n",
              "  <tbody>\n",
              "    <tr>\n",
              "      <th>reference</th>\n",
              "      <td>PO3479271356</td>\n",
              "      <td>PO7661307675</td>\n",
              "      <td>PO2010291409</td>\n",
              "    </tr>\n",
              "    <tr>\n",
              "      <th>product_code</th>\n",
              "      <td></td>\n",
              "      <td></td>\n",
              "      <td></td>\n",
              "    </tr>\n",
              "    <tr>\n",
              "      <th>carrier_name</th>\n",
              "      <td>Alvero</td>\n",
              "      <td>Alvero</td>\n",
              "      <td>Alvero</td>\n",
              "    </tr>\n",
              "    <tr>\n",
              "      <th>carrier_status</th>\n",
              "      <td>delivered</td>\n",
              "      <td>delivered</td>\n",
              "      <td>delivered</td>\n",
              "    </tr>\n",
              "    <tr>\n",
              "      <th>Relatie</th>\n",
              "      <td>Ahrend TWP</td>\n",
              "      <td>Ahrend TWP</td>\n",
              "      <td>Ahrend TWP</td>\n",
              "    </tr>\n",
              "    <tr>\n",
              "      <th>Contactpersoon email</th>\n",
              "      <td>afleverbon.thuiswerkplek@ahrend.com</td>\n",
              "      <td>afleverbon.thuiswerkplek@ahrend.com</td>\n",
              "      <td>afleverbon.thuiswerkplek@ahrend.com</td>\n",
              "    </tr>\n",
              "    <tr>\n",
              "      <th>Referentie</th>\n",
              "      <td>PO3479271356</td>\n",
              "      <td>PO7661307675</td>\n",
              "      <td>PO2010291409</td>\n",
              "    </tr>\n",
              "    <tr>\n",
              "      <th>Orderdatum</th>\n",
              "      <td>13-8-2021</td>\n",
              "      <td>13-8-2021</td>\n",
              "      <td>13-8-2021</td>\n",
              "    </tr>\n",
              "    <tr>\n",
              "      <th>Markt ID</th>\n",
              "      <td>Unilever Home Office</td>\n",
              "      <td>Cognizant Home Office</td>\n",
              "      <td>Cognizant Home Office</td>\n",
              "    </tr>\n",
              "    <tr>\n",
              "      <th>Valuta</th>\n",
              "      <td>EUR</td>\n",
              "      <td>EUR</td>\n",
              "      <td>EUR</td>\n",
              "    </tr>\n",
              "    <tr>\n",
              "      <th>Klantnaam</th>\n",
              "      <td></td>\n",
              "      <td></td>\n",
              "      <td></td>\n",
              "    </tr>\n",
              "    <tr>\n",
              "      <th>Voornaam (Verzenden)</th>\n",
              "      <td></td>\n",
              "      <td></td>\n",
              "      <td></td>\n",
              "    </tr>\n",
              "    <tr>\n",
              "      <th>Achternaam (Verzenden)</th>\n",
              "      <td></td>\n",
              "      <td></td>\n",
              "      <td></td>\n",
              "    </tr>\n",
              "    <tr>\n",
              "      <th>Plaats (Verzenden)</th>\n",
              "      <td></td>\n",
              "      <td></td>\n",
              "      <td></td>\n",
              "    </tr>\n",
              "    <tr>\n",
              "      <th>Land (Verzenden)</th>\n",
              "      <td>Belgium</td>\n",
              "      <td>Belgium</td>\n",
              "      <td>Belgium</td>\n",
              "    </tr>\n",
              "    <tr>\n",
              "      <th>Stuur sms</th>\n",
              "      <td>J</td>\n",
              "      <td>J</td>\n",
              "      <td>J</td>\n",
              "    </tr>\n",
              "    <tr>\n",
              "      <th>Uiterste afleverdatum</th>\n",
              "      <td></td>\n",
              "      <td></td>\n",
              "      <td></td>\n",
              "    </tr>\n",
              "    <tr>\n",
              "      <th>Geplande afleverdatum</th>\n",
              "      <td>1-9-2021</td>\n",
              "      <td>1-9-2021</td>\n",
              "      <td>15-9-2021</td>\n",
              "    </tr>\n",
              "    <tr>\n",
              "      <th>Bijzondere opmerking</th>\n",
              "      <td></td>\n",
              "      <td></td>\n",
              "      <td></td>\n",
              "    </tr>\n",
              "    <tr>\n",
              "      <th>Artikelnummer_artikel_1</th>\n",
              "      <td>TWP2020ZWNPR</td>\n",
              "      <td>TWP2020ZWNPR</td>\n",
              "      <td>TWP2020ZWNPR</td>\n",
              "    </tr>\n",
              "    <tr>\n",
              "      <th>Aantal_artikel_1</th>\n",
              "      <td>1</td>\n",
              "      <td>1</td>\n",
              "      <td>1</td>\n",
              "    </tr>\n",
              "    <tr>\n",
              "      <th>Artikelnummer_artikel_2</th>\n",
              "      <td></td>\n",
              "      <td></td>\n",
              "      <td></td>\n",
              "    </tr>\n",
              "    <tr>\n",
              "      <th>Aantal_artikel_2</th>\n",
              "      <td></td>\n",
              "      <td></td>\n",
              "      <td></td>\n",
              "    </tr>\n",
              "    <tr>\n",
              "      <th>Artikelnummer_artikel_3</th>\n",
              "      <td></td>\n",
              "      <td></td>\n",
              "      <td></td>\n",
              "    </tr>\n",
              "    <tr>\n",
              "      <th>Aantal_artikel_3</th>\n",
              "      <td></td>\n",
              "      <td></td>\n",
              "      <td></td>\n",
              "    </tr>\n",
              "    <tr>\n",
              "      <th>Artikelnummer_artikel_4</th>\n",
              "      <td></td>\n",
              "      <td></td>\n",
              "      <td></td>\n",
              "    </tr>\n",
              "    <tr>\n",
              "      <th>Aantal_artikel_4</th>\n",
              "      <td></td>\n",
              "      <td></td>\n",
              "      <td></td>\n",
              "    </tr>\n",
              "    <tr>\n",
              "      <th>Artikelnummer_artikel_5</th>\n",
              "      <td></td>\n",
              "      <td></td>\n",
              "      <td></td>\n",
              "    </tr>\n",
              "    <tr>\n",
              "      <th>Aantal_artikel_5</th>\n",
              "      <td></td>\n",
              "      <td></td>\n",
              "      <td></td>\n",
              "    </tr>\n",
              "    <tr>\n",
              "      <th>Artikelnummer_artikel_6</th>\n",
              "      <td></td>\n",
              "      <td></td>\n",
              "      <td></td>\n",
              "    </tr>\n",
              "    <tr>\n",
              "      <th>Aantal_artikel_6</th>\n",
              "      <td></td>\n",
              "      <td></td>\n",
              "      <td></td>\n",
              "    </tr>\n",
              "    <tr>\n",
              "      <th>Artikelnummer_artikel_7</th>\n",
              "      <td></td>\n",
              "      <td></td>\n",
              "      <td></td>\n",
              "    </tr>\n",
              "    <tr>\n",
              "      <th>Aantal_artikel_7</th>\n",
              "      <td></td>\n",
              "      <td></td>\n",
              "      <td></td>\n",
              "    </tr>\n",
              "    <tr>\n",
              "      <th>Artikelnummer_artikel_8</th>\n",
              "      <td></td>\n",
              "      <td></td>\n",
              "      <td></td>\n",
              "    </tr>\n",
              "    <tr>\n",
              "      <th>Aantal_artikel_8</th>\n",
              "      <td></td>\n",
              "      <td></td>\n",
              "      <td></td>\n",
              "    </tr>\n",
              "    <tr>\n",
              "      <th>Artikelnummer_artikel_9</th>\n",
              "      <td></td>\n",
              "      <td></td>\n",
              "      <td></td>\n",
              "    </tr>\n",
              "    <tr>\n",
              "      <th>Aantal_artikel_9</th>\n",
              "      <td></td>\n",
              "      <td></td>\n",
              "      <td></td>\n",
              "    </tr>\n",
              "    <tr>\n",
              "      <th>Artikelnummer_artikel_10</th>\n",
              "      <td></td>\n",
              "      <td></td>\n",
              "      <td></td>\n",
              "    </tr>\n",
              "    <tr>\n",
              "      <th>Aantal_artikel_10</th>\n",
              "      <td></td>\n",
              "      <td></td>\n",
              "      <td></td>\n",
              "    </tr>\n",
              "    <tr>\n",
              "      <th>origin_file</th>\n",
              "      <td>Alvero Export Ahrend 041120211700 status deliv...</td>\n",
              "      <td>Alvero Export Ahrend 041120211700 status deliv...</td>\n",
              "      <td>Alvero Export Ahrend 041120211700 status deliv...</td>\n",
              "    </tr>\n",
              "  </tbody>\n",
              "</table>\n",
              "</div>"
            ],
            "text/plain": [
              "                                                                          0  ...                                                  2\n",
              "reference                                                      PO3479271356  ...                                       PO2010291409\n",
              "product_code                                                                 ...                                                   \n",
              "carrier_name                                                         Alvero  ...                                             Alvero\n",
              "carrier_status                                                    delivered  ...                                          delivered\n",
              "Relatie                                                          Ahrend TWP  ...                                         Ahrend TWP\n",
              "Contactpersoon email                    afleverbon.thuiswerkplek@ahrend.com  ...                afleverbon.thuiswerkplek@ahrend.com\n",
              "Referentie                                                     PO3479271356  ...                                       PO2010291409\n",
              "Orderdatum                                                        13-8-2021  ...                                          13-8-2021\n",
              "Markt ID                                               Unilever Home Office  ...                              Cognizant Home Office\n",
              "Valuta                                                                  EUR  ...                                                EUR\n",
              "Klantnaam                                                                    ...                                                   \n",
              "Voornaam (Verzenden)                                                         ...                                                   \n",
              "Achternaam (Verzenden)                                                       ...                                                   \n",
              "Plaats (Verzenden)                                                           ...                                                   \n",
              "Land (Verzenden)                                                    Belgium  ...                                            Belgium\n",
              "Stuur sms                                                                 J  ...                                                  J\n",
              "Uiterste afleverdatum                                                        ...                                                   \n",
              "Geplande afleverdatum                                              1-9-2021  ...                                          15-9-2021\n",
              "Bijzondere opmerking                                                         ...                                                   \n",
              "Artikelnummer_artikel_1                                        TWP2020ZWNPR  ...                                       TWP2020ZWNPR\n",
              "Aantal_artikel_1                                                          1  ...                                                  1\n",
              "Artikelnummer_artikel_2                                                      ...                                                   \n",
              "Aantal_artikel_2                                                             ...                                                   \n",
              "Artikelnummer_artikel_3                                                      ...                                                   \n",
              "Aantal_artikel_3                                                             ...                                                   \n",
              "Artikelnummer_artikel_4                                                      ...                                                   \n",
              "Aantal_artikel_4                                                             ...                                                   \n",
              "Artikelnummer_artikel_5                                                      ...                                                   \n",
              "Aantal_artikel_5                                                             ...                                                   \n",
              "Artikelnummer_artikel_6                                                      ...                                                   \n",
              "Aantal_artikel_6                                                             ...                                                   \n",
              "Artikelnummer_artikel_7                                                      ...                                                   \n",
              "Aantal_artikel_7                                                             ...                                                   \n",
              "Artikelnummer_artikel_8                                                      ...                                                   \n",
              "Aantal_artikel_8                                                             ...                                                   \n",
              "Artikelnummer_artikel_9                                                      ...                                                   \n",
              "Aantal_artikel_9                                                             ...                                                   \n",
              "Artikelnummer_artikel_10                                                     ...                                                   \n",
              "Aantal_artikel_10                                                            ...                                                   \n",
              "origin_file               Alvero Export Ahrend 041120211700 status deliv...  ...  Alvero Export Ahrend 041120211700 status deliv...\n",
              "\n",
              "[40 rows x 3 columns]"
            ]
          },
          "metadata": {},
          "execution_count": 24
        }
      ]
    },
    {
      "cell_type": "code",
      "metadata": {
        "id": "eVQ6K2NFObuv"
      },
      "source": [
        "client = \\\n",
        "MongoClient(mongo_db_url)"
      ],
      "execution_count": 25,
      "outputs": []
    },
    {
      "cell_type": "code",
      "metadata": {
        "id": "hm6yzcS_IfJQ"
      },
      "source": [
        "db = client['ahrend']"
      ],
      "execution_count": 26,
      "outputs": []
    },
    {
      "cell_type": "code",
      "metadata": {
        "id": "oAQMzdTbIfJQ"
      },
      "source": [
        "## Only in case of emergency use\n",
        "## db.drop_collection('carrier_deliveries')"
      ],
      "execution_count": 27,
      "outputs": []
    },
    {
      "cell_type": "code",
      "metadata": {
        "id": "OepWVHGCIfJQ"
      },
      "source": [
        "collection = db['carrier_deliveries']"
      ],
      "execution_count": 28,
      "outputs": []
    },
    {
      "cell_type": "code",
      "metadata": {
        "colab": {
          "base_uri": "https://localhost:8080/"
        },
        "id": "dUe3O-yWIfJQ",
        "outputId": "2ae48eca-6f04-4b12-ad0d-5a3270e4edd5"
      },
      "source": [
        "%%time\n",
        "for uploaded_carrier in uploaded_carriers:\n",
        "    collection.delete_many(uploaded_carrier['mongodb_delete_many'])\n",
        "    collection.insert_many(uploaded_carrier['data_dict'])"
      ],
      "execution_count": 29,
      "outputs": [
        {
          "output_type": "stream",
          "name": "stdout",
          "text": [
            "CPU times: user 1.08 s, sys: 75.7 ms, total: 1.16 s\n",
            "Wall time: 13 s\n"
          ]
        }
      ]
    },
    {
      "cell_type": "code",
      "metadata": {
        "id": "0wEwRvbDIfJQ"
      },
      "source": [
        ""
      ],
      "execution_count": null,
      "outputs": []
    }
  ]
}